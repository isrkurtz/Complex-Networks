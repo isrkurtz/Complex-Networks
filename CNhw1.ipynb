{
 "cells": [
  {
   "cell_type": "code",
   "execution_count": 1,
   "metadata": {},
   "outputs": [],
   "source": [
    "#The Human Reference Protein Interactome Mapping Project\n",
    "#http://www.interactome-atlas.org/download\n",
    "#Dataset Venkatesan-09\n",
    "import matplotlib.pyplot as plt\n",
    "import numpy as np\n",
    "import powerlaw\n",
    "import networkx as nx\n",
    "import time\n",
    "import pandas as pd\n",
    "import os"
   ]
  },
  {
   "cell_type": "code",
   "execution_count": 2,
   "metadata": {},
   "outputs": [
    {
     "data": {
      "text/plain": [
       "'C:\\\\Users\\\\Izzy\\\\Downloads'"
      ]
     },
     "execution_count": 2,
     "metadata": {},
     "output_type": "execute_result"
    }
   ],
   "source": [
    "os.chdir('C:/Users/Izzy/Downloads')\n",
    "os.getcwd()"
   ]
  },
  {
   "cell_type": "code",
   "execution_count": 3,
   "metadata": {},
   "outputs": [],
   "source": [
    "#Read file\n",
    "path_file='output-onlinetsvtoolsnums.txt'\n",
    "edge_list=pd.read_csv('output-onlinetsvtoolsnums.txt', delimiter = ' ' ,names=['source','target'])"
   ]
  },
  {
   "cell_type": "code",
   "execution_count": 4,
   "metadata": {},
   "outputs": [
    {
     "data": {
      "text/html": [
       "<div>\n",
       "<style scoped>\n",
       "    .dataframe tbody tr th:only-of-type {\n",
       "        vertical-align: middle;\n",
       "    }\n",
       "\n",
       "    .dataframe tbody tr th {\n",
       "        vertical-align: top;\n",
       "    }\n",
       "\n",
       "    .dataframe thead th {\n",
       "        text-align: right;\n",
       "    }\n",
       "</style>\n",
       "<table border=\"1\" class=\"dataframe\">\n",
       "  <thead>\n",
       "    <tr style=\"text-align: right;\">\n",
       "      <th></th>\n",
       "      <th>source</th>\n",
       "      <th>target</th>\n",
       "    </tr>\n",
       "  </thead>\n",
       "  <tbody>\n",
       "    <tr>\n",
       "      <th>0</th>\n",
       "      <td>2834</td>\n",
       "      <td>71539</td>\n",
       "    </tr>\n",
       "    <tr>\n",
       "      <th>1</th>\n",
       "      <td>2834</td>\n",
       "      <td>112559</td>\n",
       "    </tr>\n",
       "    <tr>\n",
       "      <th>2</th>\n",
       "      <td>2834</td>\n",
       "      <td>183283</td>\n",
       "    </tr>\n",
       "    <tr>\n",
       "      <th>3</th>\n",
       "      <td>6015</td>\n",
       "      <td>112559</td>\n",
       "    </tr>\n",
       "    <tr>\n",
       "      <th>4</th>\n",
       "      <td>11007</td>\n",
       "      <td>265817</td>\n",
       "    </tr>\n",
       "    <tr>\n",
       "      <th>5</th>\n",
       "      <td>30110</td>\n",
       "      <td>171552</td>\n",
       "    </tr>\n",
       "    <tr>\n",
       "      <th>6</th>\n",
       "      <td>31691</td>\n",
       "      <td>132016</td>\n",
       "    </tr>\n",
       "    <tr>\n",
       "      <th>7</th>\n",
       "      <td>50748</td>\n",
       "      <td>141480</td>\n",
       "    </tr>\n",
       "    <tr>\n",
       "      <th>8</th>\n",
       "      <td>51128</td>\n",
       "      <td>108798</td>\n",
       "    </tr>\n",
       "    <tr>\n",
       "      <th>9</th>\n",
       "      <td>58673</td>\n",
       "      <td>76242</td>\n",
       "    </tr>\n",
       "  </tbody>\n",
       "</table>\n",
       "</div>"
      ],
      "text/plain": [
       "   source  target\n",
       "0    2834   71539\n",
       "1    2834  112559\n",
       "2    2834  183283\n",
       "3    6015  112559\n",
       "4   11007  265817\n",
       "5   30110  171552\n",
       "6   31691  132016\n",
       "7   50748  141480\n",
       "8   51128  108798\n",
       "9   58673   76242"
      ]
     },
     "execution_count": 4,
     "metadata": {},
     "output_type": "execute_result"
    }
   ],
   "source": [
    "edge_list[:10]"
   ]
  },
  {
   "cell_type": "code",
   "execution_count": 5,
   "metadata": {},
   "outputs": [
    {
     "name": "stdout",
     "output_type": "stream",
     "text": [
      "0.0029299259185791016\n"
     ]
    }
   ],
   "source": [
    "#Start with same analysis as in lecture.\n",
    "#read entire edge list\n",
    "start=time.time()\n",
    "G = nx.read_edgelist(path_file)\n",
    "print(time.time()-start)"
   ]
  },
  {
   "cell_type": "code",
   "execution_count": 6,
   "metadata": {},
   "outputs": [
    {
     "name": "stdout",
     "output_type": "stream",
     "text": [
      "0.03941631317138672\n"
     ]
    }
   ],
   "source": [
    "#here we look for the degree of each node.\n",
    "#we use a dictionary\n",
    "start=time.time()\n",
    "degrees={}\n",
    "for i in edge_list.iterrows():\n",
    "    if i[1].source not in degrees:\n",
    "        degrees[i[1].source]=0\n",
    "    if i[1].target not in degrees:\n",
    "        degrees[i[1].target]=0\n",
    "    degrees[i[1].source]+=1\n",
    "    degrees[i[1].target]+=1\n",
    "print(time.time()-start)"
   ]
  },
  {
   "cell_type": "code",
   "execution_count": 7,
   "metadata": {},
   "outputs": [],
   "source": [
    "degree_sequence=list(degrees.values())"
   ]
  },
  {
   "cell_type": "code",
   "execution_count": 8,
   "metadata": {},
   "outputs": [],
   "source": [
    "#Using networkX\n",
    "degree_sequence_nx=[d for n,d in G.degree()]"
   ]
  },
  {
   "cell_type": "code",
   "execution_count": 9,
   "metadata": {},
   "outputs": [],
   "source": [
    "xx,countss=np.unique(degree_sequence,return_counts=True)"
   ]
  },
  {
   "cell_type": "code",
   "execution_count": 10,
   "metadata": {},
   "outputs": [
    {
     "data": {
      "image/png": "[encoded data removed]",
      "text/plain": [
       "<Figure size 576x360 with 1 Axes>"
      ]
     },
     "metadata": {
      "needs_background": "light"
     },
     "output_type": "display_data"
    }
   ],
   "source": [
    "#Plot degree distribution\n",
    "plt.figure(figsize=(8,5))\n",
    "plt.loglog(xx,countss/sum(countss),'o')\n",
    "plt.ylabel('P(k)', fontsize=20)\n",
    "plt.xlabel('k',fontsize=20)\n",
    "\n",
    "plt.show()"
   ]
  },
  {
   "cell_type": "code",
   "execution_count": 11,
   "metadata": {},
   "outputs": [
    {
     "data": {
      "text/plain": [
       "<matplotlib.axes._subplots.AxesSubplot at 0x2a23f841fc8>"
      ]
     },
     "execution_count": 11,
     "metadata": {},
     "output_type": "execute_result"
    },
    {
     "data": {
      "image/png": "[encoded data removed]",
      "text/plain": [
       "<Figure size 432x288 with 1 Axes>"
      ]
     },
     "metadata": {
      "needs_background": "light"
     },
     "output_type": "display_data"
    }
   ],
   "source": [
    "#Plot probability density function and cumulative distribution function\n",
    "powerlaw.plot_pdf(degree_sequence_nx, color='b') #pdf in blue\n",
    "powerlaw.plot_cdf(degree_sequence_nx, color='r') #cdf in red"
   ]
  },
  {
   "cell_type": "code",
   "execution_count": 12,
   "metadata": {},
   "outputs": [
    {
     "name": "stdout",
     "output_type": "stream",
     "text": [
      "scaling exponent 2.173435506402618\n",
      "k_min 2.0\n"
     ]
    },
    {
     "name": "stderr",
     "output_type": "stream",
     "text": [
      "Calculating best minimal value for power law fit\n",
      "C:\\Users\\Izzy\\miniconda3\\lib\\site-packages\\powerlaw.py:700: RuntimeWarning: invalid value encountered in true_divide\n",
      "  (Theoretical_CDF * (1 - Theoretical_CDF))\n"
     ]
    }
   ],
   "source": [
    "#calculate scaling exponent alpha (gamma) and x_min (k_min)\n",
    "fit = powerlaw.Fit(degree_sequence_nx, discrete=True)\n",
    "alpha=fit.alpha\n",
    "print('scaling exponent',alpha)\n",
    "k_min=fit.xmin\n",
    "print('k_min',k_min)"
   ]
  },
  {
   "cell_type": "code",
   "execution_count": 13,
   "metadata": {},
   "outputs": [
    {
     "name": "stderr",
     "output_type": "stream",
     "text": [
      "Calculating best minimal value for power law fit\n",
      "Calculating best minimal value for power law fit\n",
      "Calculating best minimal value for power law fit\n",
      "Calculating best minimal value for power law fit\n",
      "Calculating best minimal value for power law fit\n",
      "Calculating best minimal value for power law fit\n",
      "C:\\Users\\Izzy\\miniconda3\\lib\\site-packages\\powerlaw.py:700: RuntimeWarning: divide by zero encountered in true_divide\n",
      "  (Theoretical_CDF * (1 - Theoretical_CDF))\n",
      "Calculating best minimal value for power law fit\n",
      "Calculating best minimal value for power law fit\n",
      "Calculating best minimal value for power law fit\n",
      "Calculating best minimal value for power law fit\n",
      "Calculating best minimal value for power law fit\n",
      "Calculating best minimal value for power law fit\n",
      "Calculating best minimal value for power law fit\n",
      "Calculating best minimal value for power law fit\n",
      "Calculating best minimal value for power law fit\n",
      "Calculating best minimal value for power law fit\n",
      "Calculating best minimal value for power law fit\n",
      "Calculating best minimal value for power law fit\n",
      "Calculating best minimal value for power law fit\n",
      "Calculating best minimal value for power law fit\n",
      "Calculating best minimal value for power law fit\n",
      "Calculating best minimal value for power law fit\n",
      "Calculating best minimal value for power law fit\n",
      "Calculating best minimal value for power law fit\n",
      "Calculating best minimal value for power law fit\n"
     ]
    },
    {
     "name": "stdout",
     "output_type": "stream",
     "text": [
      "0.05032262607888882\n",
      "0.02620371449304043\n",
      "0.035353774233105706\n",
      "0.04144398936203664\n",
      "0.0441982878210444\n",
      "0.02354130528126952\n",
      "0.040916100344860484\n",
      "0.03512585317292377\n",
      "0.0411906314135877\n",
      "0.04020359091967507\n",
      "0.046660477297221004\n",
      "0.03855366153021933\n",
      "0.04195801686382672\n",
      "0.02028582679019686\n",
      "0.05260618539597639\n",
      "0.031314712073137074\n",
      "0.02373964288991748\n",
      "0.03699926909548684\n",
      "0.02674951076493437\n",
      "0.04590850936984203\n",
      "0.03704237437379254\n",
      "0.029434233443296764\n",
      "0.05407353635800449\n",
      "0.06610148432554941\n",
      "0.05798580882874532\n",
      "0.0549634092261716\n",
      "0.037079779210694164\n"
     ]
    },
    {
     "name": "stderr",
     "output_type": "stream",
     "text": [
      "Calculating best minimal value for power law fit\n",
      "Calculating best minimal value for power law fit\n",
      "Calculating best minimal value for power law fit\n",
      "Calculating best minimal value for power law fit\n",
      "Calculating best minimal value for power law fit\n",
      "Calculating best minimal value for power law fit\n",
      "Calculating best minimal value for power law fit\n",
      "Calculating best minimal value for power law fit\n"
     ]
    },
    {
     "name": "stdout",
     "output_type": "stream",
     "text": [
      "0.050892125924416665\n",
      "0.027453333289634785\n",
      "0.05590652855420444\n",
      "0.07714654801235288\n",
      "0.05507267278333072\n",
      "0.08380702996073919"
     ]
    },
    {
     "name": "stderr",
     "output_type": "stream",
     "text": [
      "Calculating best minimal value for power law fit\n",
      "Calculating best minimal value for power law fit\n",
      "Calculating best minimal value for power law fit\n",
      "Calculating best minimal value for power law fit\n",
      "Calculating best minimal value for power law fit\n",
      "Calculating best minimal value for power law fit\n",
      "Calculating best minimal value for power law fit\n",
      "Calculating best minimal value for power law fit\n",
      "Calculating best minimal value for power law fit\n",
      "Calculating best minimal value for power law fit\n",
      "Calculating best minimal value for power law fit\n",
      "Calculating best minimal value for power law fit\n",
      "Calculating best minimal value for power law fit\n",
      "Calculating best minimal value for power law fit\n",
      "Calculating best minimal value for power law fit\n",
      "Calculating best minimal value for power law fit\n",
      "Calculating best minimal value for power law fit\n"
     ]
    },
    {
     "name": "stdout",
     "output_type": "stream",
     "text": [
      "\n",
      "0.0560165055467432\n",
      "0.0491572930689933\n",
      "0.06157030845112588\n",
      "0.04401467591362784\n",
      "0.08081066354604427\n",
      "0.03111432006856829\n",
      "0.036044208399221234\n",
      "0.03406369131397091\n",
      "0.05015534545879946\n",
      "0.07040655317170452\n",
      "0.02370422276385864\n",
      "0.046714735156335896\n",
      "0.035745407960882214\n",
      "0.04560541609276181\n",
      "0.052662556224541746\n",
      "0.0397667611993473\n",
      "0.054609789669932574\n",
      "0.04779294400630196\n",
      "0.047791538708881975"
     ]
    },
    {
     "name": "stderr",
     "output_type": "stream",
     "text": [
      "Calculating best minimal value for power law fit\n",
      "Calculating best minimal value for power law fit\n",
      "Calculating best minimal value for power law fit\n",
      "Calculating best minimal value for power law fit\n",
      "Calculating best minimal value for power law fit\n",
      "Calculating best minimal value for power law fit\n",
      "Calculating best minimal value for power law fit\n",
      "Calculating best minimal value for power law fit\n",
      "Calculating best minimal value for power law fit\n",
      "Calculating best minimal value for power law fit\n"
     ]
    },
    {
     "name": "stdout",
     "output_type": "stream",
     "text": [
      "\n",
      "0.04673963517828572\n",
      "0.03324301254521944\n",
      "0.0342832905190219\n",
      "0.02475170300881313\n",
      "0.0665398221206488\n",
      "0.04063189320858274\n",
      "0.06270508868999758\n",
      "0.053734412862935566\n",
      "0.05746398434778671\n",
      "0.03925332145478144"
     ]
    },
    {
     "name": "stderr",
     "output_type": "stream",
     "text": [
      "Calculating best minimal value for power law fit\n",
      "Calculating best minimal value for power law fit\n",
      "Calculating best minimal value for power law fit\n",
      "Calculating best minimal value for power law fit\n",
      "Calculating best minimal value for power law fit\n",
      "Calculating best minimal value for power law fit\n",
      "Calculating best minimal value for power law fit\n",
      "Calculating best minimal value for power law fit\n",
      "Calculating best minimal value for power law fit\n",
      "Calculating best minimal value for power law fit\n",
      "Calculating best minimal value for power law fit\n",
      "Calculating best minimal value for power law fit\n",
      "Calculating best minimal value for power law fit\n",
      "Calculating best minimal value for power law fit\n",
      "Calculating best minimal value for power law fit\n",
      "Calculating best minimal value for power law fit\n",
      "Calculating best minimal value for power law fit\n",
      "Calculating best minimal value for power law fit\n",
      "Calculating best minimal value for power law fit\n",
      "Calculating best minimal value for power law fit\n",
      "Calculating best minimal value for power law fit\n",
      "Calculating best minimal value for power law fit\n",
      "Calculating best minimal value for power law fit\n",
      "Calculating best minimal value for power law fit\n"
     ]
    },
    {
     "name": "stdout",
     "output_type": "stream",
     "text": [
      "\n",
      "0.05567432503500758\n",
      "0.06385246160894598\n",
      "0.046111762936770884\n",
      "0.06108156922923491\n",
      "0.044079027930870596\n",
      "0.06835921235950099\n",
      "0.040009962301615465\n",
      "0.05382651012367179\n",
      "0.02552007394960798\n",
      "0.033982154158341826\n",
      "0.035211983441993944\n",
      "0.05575370890290804\n",
      "0.035263132951782294\n",
      "0.04482994060023382\n",
      "0.05179161397084642\n",
      "0.056414863720018915\n",
      "0.031090535758675042\n",
      "0.023941937633255528\n",
      "0.03160540622336805\n",
      "0.044530031802573755\n",
      "0.03581005133229509\n",
      "0.037131345167512375\n",
      "0.02567143347069689\n",
      "0.028754330976107245\n",
      "0.04743378754417166\n"
     ]
    },
    {
     "name": "stderr",
     "output_type": "stream",
     "text": [
      "Calculating best minimal value for power law fit\n",
      "Calculating best minimal value for power law fit\n",
      "Calculating best minimal value for power law fit\n",
      "Calculating best minimal value for power law fit\n",
      "Calculating best minimal value for power law fit\n",
      "Calculating best minimal value for power law fit\n",
      "Calculating best minimal value for power law fit\n",
      "Calculating best minimal value for power law fit\n",
      "Calculating best minimal value for power law fit\n",
      "Calculating best minimal value for power law fit\n"
     ]
    },
    {
     "name": "stdout",
     "output_type": "stream",
     "text": [
      "0.030820252088999855\n",
      "0.04870672500171014\n",
      "0.06824642309085643\n",
      "0.03649343943782313\n",
      "0.04628949128349835\n",
      "0.04638552535102791\n",
      "0.02458099630112298\n",
      "0.01982018569365096\n",
      "0.03979239000572088\n",
      "0.04690921773150636\n",
      "0.07303313832265229\n",
      "0.05245793591345771\n",
      "0.0862866529543968\n",
      "p value =  0.04\n"
     ]
    },
    {
     "name": "stderr",
     "output_type": "stream",
     "text": [
      "Calculating best minimal value for power law fit\n",
      "Calculating best minimal value for power law fit\n",
      "Calculating best minimal value for power law fit\n",
      "Calculating best minimal value for power law fit\n",
      "Calculating best minimal value for power law fit\n",
      "Calculating best minimal value for power law fit\n"
     ]
    }
   ],
   "source": [
    "#for multiple synthetic distributions with same alpha/gamma and kmin/xmin,\n",
    "#count number of total distributions n, and \n",
    "#number of times t synthetic distribution has higher KS statistic than empirical data.\n",
    "#p = t/n\n",
    "\n",
    "n=0\n",
    "t=0\n",
    "for i in range(100):\n",
    "    theoretical_distribution = powerlaw.Power_Law(xmin=2.0, parameters=[2.173435506402618], discrete=True)\n",
    "    simulated_data = theoretical_distribution.generate_random(176)\n",
    "    fit2 = powerlaw.Fit(simulated_data, discrete=True, estimate_discrete=True)\n",
    "    n+=1\n",
    "    print(fit2.D)\n",
    "    if fit2.D > fit.D:\n",
    "        t+=1\n",
    "\n",
    "p=t/n\n",
    "print('p value = ', p)"
   ]
  },
  {
   "cell_type": "code",
   "execution_count": 14,
   "metadata": {},
   "outputs": [
    {
     "name": "stdout",
     "output_type": "stream",
     "text": [
      "Loglikelihood ratio:  0.9574329668840056 \n",
      "Significance value:  0.3383487654551026\n"
     ]
    }
   ],
   "source": [
    "#compare fit of power law vs exponential. Positive R (loglikelihood ratio) means data is more likely in first distribution,\n",
    "#while negative R means data is more likely in the second. The significance value for that direction is p.\n",
    "R, p = fit.distribution_compare('power_law', 'exponential', normalized_ratio=True)\n",
    "print(\"Loglikelihood ratio: \", R, \"\\nSignificance value: \", p)"
   ]
  },
  {
   "cell_type": "code",
   "execution_count": 15,
   "metadata": {},
   "outputs": [],
   "source": [
    "#Read larger file, dataset Yang-16\n",
    "path_file2='Yang-16.txt'\n",
    "edge_list2=pd.read_csv('Yang-16.txt', delimiter = ' ' , names=['source','target'])"
   ]
  },
  {
   "cell_type": "code",
   "execution_count": 16,
   "metadata": {},
   "outputs": [
    {
     "data": {
      "text/html": [
       "<div>\n",
       "<style scoped>\n",
       "    .dataframe tbody tr th:only-of-type {\n",
       "        vertical-align: middle;\n",
       "    }\n",
       "\n",
       "    .dataframe tbody tr th {\n",
       "        vertical-align: top;\n",
       "    }\n",
       "\n",
       "    .dataframe thead th {\n",
       "        text-align: right;\n",
       "    }\n",
       "</style>\n",
       "<table border=\"1\" class=\"dataframe\">\n",
       "  <thead>\n",
       "    <tr style=\"text-align: right;\">\n",
       "      <th></th>\n",
       "      <th>source</th>\n",
       "      <th>target</th>\n",
       "    </tr>\n",
       "  </thead>\n",
       "  <tbody>\n",
       "    <tr>\n",
       "      <th>0</th>\n",
       "      <td>2330</td>\n",
       "      <td>171552</td>\n",
       "    </tr>\n",
       "    <tr>\n",
       "      <th>1</th>\n",
       "      <td>2822</td>\n",
       "      <td>140416</td>\n",
       "    </tr>\n",
       "    <tr>\n",
       "      <th>2</th>\n",
       "      <td>3756</td>\n",
       "      <td>5102</td>\n",
       "    </tr>\n",
       "    <tr>\n",
       "      <th>3</th>\n",
       "      <td>3756</td>\n",
       "      <td>106511</td>\n",
       "    </tr>\n",
       "    <tr>\n",
       "      <th>4</th>\n",
       "      <td>5102</td>\n",
       "      <td>68305</td>\n",
       "    </tr>\n",
       "    <tr>\n",
       "      <th>5</th>\n",
       "      <td>5102</td>\n",
       "      <td>172530</td>\n",
       "    </tr>\n",
       "    <tr>\n",
       "      <th>6</th>\n",
       "      <td>5102</td>\n",
       "      <td>181513</td>\n",
       "    </tr>\n",
       "    <tr>\n",
       "      <th>7</th>\n",
       "      <td>5249</td>\n",
       "      <td>108599</td>\n",
       "    </tr>\n",
       "    <tr>\n",
       "      <th>8</th>\n",
       "      <td>7001</td>\n",
       "      <td>7001</td>\n",
       "    </tr>\n",
       "    <tr>\n",
       "      <th>9</th>\n",
       "      <td>7001</td>\n",
       "      <td>106511</td>\n",
       "    </tr>\n",
       "  </tbody>\n",
       "</table>\n",
       "</div>"
      ],
      "text/plain": [
       "   source  target\n",
       "0    2330  171552\n",
       "1    2822  140416\n",
       "2    3756    5102\n",
       "3    3756  106511\n",
       "4    5102   68305\n",
       "5    5102  172530\n",
       "6    5102  181513\n",
       "7    5249  108599\n",
       "8    7001    7001\n",
       "9    7001  106511"
      ]
     },
     "execution_count": 16,
     "metadata": {},
     "output_type": "execute_result"
    }
   ],
   "source": [
    "edge_list2[:10]"
   ]
  },
  {
   "cell_type": "code",
   "execution_count": 17,
   "metadata": {},
   "outputs": [],
   "source": [
    "#Start with same analysis as in lecture.\n",
    "#read entire edge list\n",
    "G2 = nx.read_edgelist(path_file2)"
   ]
  },
  {
   "cell_type": "code",
   "execution_count": 18,
   "metadata": {},
   "outputs": [],
   "source": [
    "#here we look for the degree of each node.\n",
    "#we use a dictionary\n",
    "degrees2={}\n",
    "for i in edge_list2.iterrows():\n",
    "    if i[1].source not in degrees2:\n",
    "        degrees2[i[1].source]=0\n",
    "    if i[1].target not in degrees2:\n",
    "        degrees2[i[1].target]=0\n",
    "    degrees2[i[1].source]+=1\n",
    "    degrees2[i[1].target]+=1"
   ]
  },
  {
   "cell_type": "code",
   "execution_count": 19,
   "metadata": {},
   "outputs": [],
   "source": [
    "degree_sequence2=list(degrees2.values())"
   ]
  },
  {
   "cell_type": "code",
   "execution_count": 20,
   "metadata": {},
   "outputs": [],
   "source": [
    "#Using networkX\n",
    "degree_sequence_nx2=[d for n,d in G2.degree()]"
   ]
  },
  {
   "cell_type": "code",
   "execution_count": 21,
   "metadata": {},
   "outputs": [],
   "source": [
    "xx2,countss2=np.unique(degree_sequence2,return_counts=True)"
   ]
  },
  {
   "cell_type": "code",
   "execution_count": 22,
   "metadata": {},
   "outputs": [
    {
     "data": {
      "image/png": "[encoded data removed]",
      "text/plain": [
       "<Figure size 576x360 with 1 Axes>"
      ]
     },
     "metadata": {
      "needs_background": "light"
     },
     "output_type": "display_data"
    }
   ],
   "source": [
    "#Plot degree distribution\n",
    "plt.figure(figsize=(8,5))\n",
    "plt.loglog(xx2,countss2/sum(countss2),'o')\n",
    "plt.ylabel('P(k)', fontsize=20)\n",
    "plt.xlabel('k',fontsize=20)\n",
    "\n",
    "plt.show()"
   ]
  },
  {
   "cell_type": "code",
   "execution_count": 23,
   "metadata": {},
   "outputs": [
    {
     "data": {
      "text/plain": [
       "<matplotlib.axes._subplots.AxesSubplot at 0x2a23fd95a48>"
      ]
     },
     "execution_count": 23,
     "metadata": {},
     "output_type": "execute_result"
    },
    {
     "data": {
      "image/png": "[encoded data removed]",
      "text/plain": [
       "<Figure size 432x288 with 1 Axes>"
      ]
     },
     "metadata": {
      "needs_background": "light"
     },
     "output_type": "display_data"
    }
   ],
   "source": [
    "#Plot probability density function and cumulative distribution function\n",
    "powerlaw.plot_pdf(degree_sequence_nx2, color='b') #pdf in blue\n",
    "powerlaw.plot_cdf(degree_sequence_nx2, color='r') #cdf in red"
   ]
  },
  {
   "cell_type": "code",
   "execution_count": 24,
   "metadata": {},
   "outputs": [
    {
     "name": "stdout",
     "output_type": "stream",
     "text": [
      "scaling exponent 2.3341998795884913\n",
      "k_min 3.0\n"
     ]
    },
    {
     "name": "stderr",
     "output_type": "stream",
     "text": [
      "Calculating best minimal value for power law fit\n",
      "C:\\Users\\Izzy\\miniconda3\\lib\\site-packages\\powerlaw.py:700: RuntimeWarning: invalid value encountered in true_divide\n",
      "  (Theoretical_CDF * (1 - Theoretical_CDF))\n"
     ]
    }
   ],
   "source": [
    "#calculate scaling exponent alpha (gamma) and x_min (k_min)\n",
    "fitt = powerlaw.Fit(degree_sequence_nx2, discrete=True)\n",
    "alphaa=fitt.alpha\n",
    "print('scaling exponent',alphaa)\n",
    "k_minn=fitt.xmin\n",
    "print('k_min',k_minn)"
   ]
  },
  {
   "cell_type": "code",
   "execution_count": 25,
   "metadata": {},
   "outputs": [
    {
     "name": "stderr",
     "output_type": "stream",
     "text": [
      "Calculating best minimal value for power law fit\n",
      "Calculating best minimal value for power law fit\n",
      "C:\\Users\\Izzy\\miniconda3\\lib\\site-packages\\powerlaw.py:700: RuntimeWarning: divide by zero encountered in true_divide\n",
      "  (Theoretical_CDF * (1 - Theoretical_CDF))\n",
      "Calculating best minimal value for power law fit\n",
      "Calculating best minimal value for power law fit\n",
      "Calculating best minimal value for power law fit\n",
      "Calculating best minimal value for power law fit\n",
      "Calculating best minimal value for power law fit\n",
      "Calculating best minimal value for power law fit\n",
      "Calculating best minimal value for power law fit\n",
      "Calculating best minimal value for power law fit\n",
      "Calculating best minimal value for power law fit\n"
     ]
    },
    {
     "name": "stdout",
     "output_type": "stream",
     "text": [
      "0.03136754841704992\n",
      "0.03178239715211928\n",
      "0.01578540542403628\n",
      "0.021099473932273516\n",
      "0.02238560030062342\n",
      "0.017479332219545174\n",
      "0.028116937783092655\n",
      "0.03210656854861782\n",
      "0.016391499629872852\n",
      "0.020927306974150794\n",
      "0.02200354239199742\n"
     ]
    },
    {
     "name": "stderr",
     "output_type": "stream",
     "text": [
      "Calculating best minimal value for power law fit\n",
      "Calculating best minimal value for power law fit\n",
      "Calculating best minimal value for power law fit\n",
      "Calculating best minimal value for power law fit\n",
      "Calculating best minimal value for power law fit\n",
      "Calculating best minimal value for power law fit\n"
     ]
    },
    {
     "name": "stdout",
     "output_type": "stream",
     "text": [
      "0.015609698786959059\n",
      "0.019420939091234102\n",
      "0.03133993548091618\n",
      "0.032033438706362105\n",
      "0.01340711103608605\n",
      "0.023333268412715658\n",
      "0.02684512339927292"
     ]
    },
    {
     "name": "stderr",
     "output_type": "stream",
     "text": [
      "Calculating best minimal value for power law fit\n",
      "Calculating best minimal value for power law fit\n",
      "Calculating best minimal value for power law fit\n",
      "Calculating best minimal value for power law fit\n",
      "Calculating best minimal value for power law fit\n",
      "Calculating best minimal value for power law fit\n",
      "Calculating best minimal value for power law fit\n"
     ]
    },
    {
     "name": "stdout",
     "output_type": "stream",
     "text": [
      "\n",
      "0.03261415102894394\n",
      "0.023005064466168235\n",
      "0.039111040391190066\n",
      "0.020197010916082392\n",
      "0.024569385584012504\n",
      "0.040946816176834155\n",
      "0.022433701844083886"
     ]
    },
    {
     "name": "stderr",
     "output_type": "stream",
     "text": [
      "Calculating best minimal value for power law fit\n",
      "Calculating best minimal value for power law fit\n",
      "Calculating best minimal value for power law fit\n",
      "Calculating best minimal value for power law fit\n",
      "Calculating best minimal value for power law fit\n",
      "Calculating best minimal value for power law fit\n"
     ]
    },
    {
     "name": "stdout",
     "output_type": "stream",
     "text": [
      "\n",
      "0.03471684842346345\n",
      "0.05043056970036108\n",
      "0.021973739911723356\n",
      "0.0354867689527254\n",
      "0.026321906085004843\n",
      "0.019113235692877706"
     ]
    },
    {
     "name": "stderr",
     "output_type": "stream",
     "text": [
      "Calculating best minimal value for power law fit\n",
      "Calculating best minimal value for power law fit\n",
      "Calculating best minimal value for power law fit\n",
      "Calculating best minimal value for power law fit\n",
      "Calculating best minimal value for power law fit\n",
      "Calculating best minimal value for power law fit\n",
      "Calculating best minimal value for power law fit\n",
      "Calculating best minimal value for power law fit\n",
      "Calculating best minimal value for power law fit\n"
     ]
    },
    {
     "name": "stdout",
     "output_type": "stream",
     "text": [
      "\n",
      "0.020317834226979636\n",
      "0.02092771817734118\n",
      "0.024190960276172402\n",
      "0.03468785339757985\n",
      "0.02263897771292389\n",
      "0.023943008562521406\n",
      "0.02169188776445674\n",
      "0.017120399761622607\n",
      "0.014002198856400971"
     ]
    },
    {
     "name": "stderr",
     "output_type": "stream",
     "text": [
      "Calculating best minimal value for power law fit\n",
      "Calculating best minimal value for power law fit\n",
      "Calculating best minimal value for power law fit\n",
      "Calculating best minimal value for power law fit\n",
      "Calculating best minimal value for power law fit\n",
      "Calculating best minimal value for power law fit\n"
     ]
    },
    {
     "name": "stdout",
     "output_type": "stream",
     "text": [
      "\n",
      "0.03136942406123744\n",
      "0.033856938334658304\n",
      "0.0157184511326387\n",
      "0.03169907294331531\n",
      "0.016684844296075307\n",
      "0.034197107316075726"
     ]
    },
    {
     "name": "stderr",
     "output_type": "stream",
     "text": [
      "Calculating best minimal value for power law fit\n",
      "Calculating best minimal value for power law fit\n",
      "Calculating best minimal value for power law fit\n",
      "Calculating best minimal value for power law fit\n",
      "Calculating best minimal value for power law fit\n",
      "Calculating best minimal value for power law fit\n",
      "Calculating best minimal value for power law fit\n",
      "Calculating best minimal value for power law fit\n",
      "Calculating best minimal value for power law fit\n"
     ]
    },
    {
     "name": "stdout",
     "output_type": "stream",
     "text": [
      "\n",
      "0.02443725248150741\n",
      "0.01546200413184462\n",
      "0.02233672650419316\n",
      "0.03222949831284172\n",
      "0.01601240341901372\n",
      "0.025461268767060563\n",
      "0.04928616558514726\n",
      "0.026752793919195106\n",
      "0.024930554326846044"
     ]
    },
    {
     "name": "stderr",
     "output_type": "stream",
     "text": [
      "Calculating best minimal value for power law fit\n",
      "Calculating best minimal value for power law fit\n",
      "Calculating best minimal value for power law fit\n",
      "Calculating best minimal value for power law fit\n",
      "Calculating best minimal value for power law fit\n",
      "Calculating best minimal value for power law fit\n"
     ]
    },
    {
     "name": "stdout",
     "output_type": "stream",
     "text": [
      "\n",
      "0.010264882390318641\n",
      "0.021089681288542272\n",
      "0.02107057964450343\n",
      "0.029061613153559873\n",
      "0.022801656616953547\n",
      "0.03543588341558235"
     ]
    },
    {
     "name": "stderr",
     "output_type": "stream",
     "text": [
      "Calculating best minimal value for power law fit\n",
      "Calculating best minimal value for power law fit\n",
      "Calculating best minimal value for power law fit\n",
      "Calculating best minimal value for power law fit\n",
      "Calculating best minimal value for power law fit\n",
      "Calculating best minimal value for power law fit\n",
      "Calculating best minimal value for power law fit\n"
     ]
    },
    {
     "name": "stdout",
     "output_type": "stream",
     "text": [
      "\n",
      "0.029012614225804145\n",
      "0.014663108954760085\n",
      "0.020384520157304076\n",
      "0.025568986947402728\n",
      "0.02896241873012384\n",
      "0.019588515784886185\n",
      "0.018406728813907924\n"
     ]
    },
    {
     "name": "stderr",
     "output_type": "stream",
     "text": [
      "Calculating best minimal value for power law fit\n",
      "Calculating best minimal value for power law fit\n",
      "Calculating best minimal value for power law fit\n",
      "Calculating best minimal value for power law fit\n",
      "Calculating best minimal value for power law fit\n",
      "Calculating best minimal value for power law fit\n"
     ]
    },
    {
     "name": "stdout",
     "output_type": "stream",
     "text": [
      "0.0263367388074065\n",
      "0.04219199653899386\n",
      "0.01920642718445248\n",
      "0.024771460949649438\n",
      "0.03521062356677973\n",
      "0.015214455246621572\n"
     ]
    },
    {
     "name": "stderr",
     "output_type": "stream",
     "text": [
      "Calculating best minimal value for power law fit\n",
      "Calculating best minimal value for power law fit\n",
      "Calculating best minimal value for power law fit\n",
      "Calculating best minimal value for power law fit\n",
      "Calculating best minimal value for power law fit\n",
      "Calculating best minimal value for power law fit\n",
      "Calculating best minimal value for power law fit\n",
      "Calculating best minimal value for power law fit\n",
      "Calculating best minimal value for power law fit\n",
      "Calculating best minimal value for power law fit\n",
      "Calculating best minimal value for power law fit\n"
     ]
    },
    {
     "name": "stdout",
     "output_type": "stream",
     "text": [
      "0.021995807964084735\n",
      "0.03391022552922218\n",
      "0.01930963111345063\n",
      "0.020986620785741206\n",
      "0.014735627645311666\n",
      "0.03103961309525899\n",
      "0.024799096703975843\n",
      "0.029009312596883607\n",
      "0.01602230268507221\n",
      "0.019845494673296882\n",
      "0.026553823456469616"
     ]
    },
    {
     "name": "stderr",
     "output_type": "stream",
     "text": [
      "Calculating best minimal value for power law fit\n",
      "Calculating best minimal value for power law fit\n",
      "Calculating best minimal value for power law fit\n",
      "Calculating best minimal value for power law fit\n",
      "Calculating best minimal value for power law fit\n",
      "Calculating best minimal value for power law fit\n"
     ]
    },
    {
     "name": "stdout",
     "output_type": "stream",
     "text": [
      "\n",
      "0.02334469809072337\n",
      "0.026961669577098224\n",
      "0.021676507512687904\n",
      "0.024044717882524602\n",
      "0.02735916452351206\n",
      "0.022227887523694978"
     ]
    },
    {
     "name": "stderr",
     "output_type": "stream",
     "text": [
      "Calculating best minimal value for power law fit\n",
      "Calculating best minimal value for power law fit\n",
      "Calculating best minimal value for power law fit\n",
      "Calculating best minimal value for power law fit\n",
      "Calculating best minimal value for power law fit\n",
      "Calculating best minimal value for power law fit\n",
      "Calculating best minimal value for power law fit\n",
      "Calculating best minimal value for power law fit\n"
     ]
    },
    {
     "name": "stdout",
     "output_type": "stream",
     "text": [
      "\n",
      "0.01820272823773067\n",
      "0.024445866197460586\n",
      "0.024894476106577135\n",
      "0.03332430659442531\n",
      "0.015934580026949835\n",
      "0.02555139757359326\n",
      "0.014765554742805942\n",
      "0.021238848920023812\n",
      "0.015609053467056433\n",
      "p value =  0.0\n"
     ]
    },
    {
     "name": "stderr",
     "output_type": "stream",
     "text": [
      "Calculating best minimal value for power law fit\n",
      "Calculating best minimal value for power law fit\n"
     ]
    }
   ],
   "source": [
    "#for multiple synthetic distributions with same alpha/gamma and kmin/xmin,\n",
    "#count number of total distributions n, and \n",
    "#number of times t synthetic distribution has higher KS statistic than empirical data.\n",
    "#p = t/n\n",
    "\n",
    "n=0\n",
    "t=0\n",
    "for i in range(100):\n",
    "    theoretical_distribution2 = powerlaw.Power_Law(xmin=3.0, parameters=[2.3341998795884913], discrete=True)\n",
    "    simulated_data2 = theoretical_distribution2.generate_random(727)\n",
    "    fitt2 = powerlaw.Fit(simulated_data2, discrete=True, estimate_discrete=True)\n",
    "    n+=1\n",
    "    print(fitt2.D)\n",
    "    if fitt2.D > fitt.D:\n",
    "        t+=1\n",
    "\n",
    "p=t/n\n",
    "print('p value = ', p)"
   ]
  },
  {
   "cell_type": "code",
   "execution_count": 26,
   "metadata": {},
   "outputs": [
    {
     "name": "stdout",
     "output_type": "stream",
     "text": [
      "Loglikelihood ratio:  3.4461343849732247 \n",
      "Significance value:  0.0005686674905490583\n"
     ]
    }
   ],
   "source": [
    "#compare fit of power law vs exponential. Positive R (loglikelihood ratio) means data is more likely in first distribution,\n",
    "#while negative R means data is more likely in the second. The significance value for that direction is p.\n",
    "R, p = fitt.distribution_compare('power_law', 'exponential', normalized_ratio=True)\n",
    "print(\"Loglikelihood ratio: \", R, \"\\nSignificance value: \", p)"
   ]
  },
  {
   "cell_type": "code",
   "execution_count": null,
   "metadata": {},
   "outputs": [],
   "source": []
  }
 ],
 "metadata": {
  "kernelspec": {
   "display_name": "Python 3",
   "language": "python",
   "name": "python3"
  },
  "language_info": {
   "codemirror_mode": {
    "name": "ipython",
    "version": 3
   },
   "file_extension": ".py",
   "mimetype": "text/x-python",
   "name": "python",
   "nbconvert_exporter": "python",
   "pygments_lexer": "ipython3",
   "version": "3.7.7"
  }
 },
 "nbformat": 4,
 "nbformat_minor": 4
}
